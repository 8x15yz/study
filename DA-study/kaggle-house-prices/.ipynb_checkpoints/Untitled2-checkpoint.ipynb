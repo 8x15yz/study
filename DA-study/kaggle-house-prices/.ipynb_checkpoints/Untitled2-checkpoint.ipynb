{
 "cells": [
  {
   "cell_type": "code",
   "execution_count": 1,
   "id": "f23dc8a5",
   "metadata": {},
   "outputs": [],
   "source": [
    "import pandas as pd\n",
    "import numpy as np\n",
    "from scipy.stats import norm\n",
    "%matplotlib inline\n",
    "import matplotlib.pyplot as plt\n",
    "import seaborn as sns\n",
    "import warnings; warnings.simplefilter('ignore')"
   ]
  },
  {
   "cell_type": "code",
   "execution_count": 2,
   "id": "2e12f21e",
   "metadata": {},
   "outputs": [
    {
     "name": "stdout",
     "output_type": "stream",
     "text": [
      "(1460, 80) (1459, 79) (1459, 1)\n"
     ]
    }
   ],
   "source": [
    "train = pd.read_csv('train.csv', index_col='Id')\n",
    "test = pd.read_csv('test.csv', index_col='Id')\n",
    "submission = pd.read_csv('sample_submission.csv', index_col='Id')\n",
    "data = train\n",
    "print(train.shape, test.shape, submission.shape)"
   ]
  },
  {
   "cell_type": "code",
   "execution_count": 5,
   "id": "0a1f5702",
   "metadata": {},
   "outputs": [
    {
     "ename": "NameError",
     "evalue": "name 'Id' is not defined",
     "output_type": "error",
     "traceback": [
      "\u001b[1;31m---------------------------------------------------------------------------\u001b[0m",
      "\u001b[1;31mNameError\u001b[0m                                 Traceback (most recent call last)",
      "Input \u001b[1;32mIn [5]\u001b[0m, in \u001b[0;36m<module>\u001b[1;34m\u001b[0m\n\u001b[1;32m----> 1\u001b[0m train\u001b[38;5;241m.\u001b[39mset_index(\u001b[43mId\u001b[49m, inplace\u001b[38;5;241m=\u001b[39m\u001b[38;5;28;01mTrue\u001b[39;00m)\n\u001b[0;32m      2\u001b[0m test\u001b[38;5;241m.\u001b[39mset_index(Id, inplace\u001b[38;5;241m=\u001b[39m\u001b[38;5;28;01mTrue\u001b[39;00m)\n\u001b[0;32m      3\u001b[0m len_train \u001b[38;5;241m=\u001b[39m \u001b[38;5;28mlen\u001b[39m(train)\n",
      "\u001b[1;31mNameError\u001b[0m: name 'Id' is not defined"
     ]
    }
   ],
   "source": [
    "train.set_index('Id', inplace=True)\n",
    "test.set_index('Id', inplace=True)\n",
    "len_train = len(train)\n",
    "len_test = len(test)"
   ]
  },
  {
   "cell_type": "code",
   "execution_count": null,
   "id": "c74b20b2",
   "metadata": {},
   "outputs": [],
   "source": []
  }
 ],
 "metadata": {
  "kernelspec": {
   "display_name": "Python 3 (ipykernel)",
   "language": "python",
   "name": "python3"
  },
  "language_info": {
   "codemirror_mode": {
    "name": "ipython",
    "version": 3
   },
   "file_extension": ".py",
   "mimetype": "text/x-python",
   "name": "python",
   "nbconvert_exporter": "python",
   "pygments_lexer": "ipython3",
   "version": "3.9.9"
  }
 },
 "nbformat": 4,
 "nbformat_minor": 5
}
