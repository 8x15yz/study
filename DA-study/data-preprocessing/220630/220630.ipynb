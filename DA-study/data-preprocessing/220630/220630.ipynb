{
 "cells": [
  {
   "cell_type": "code",
   "execution_count": null,
   "metadata": {},
   "outputs": [],
   "source": [
    "from google.colab import drive\n",
    "drive.mount('/content/drive')"
   ]
  },
  {
   "cell_type": "code",
   "execution_count": null,
   "metadata": {},
   "outputs": [],
   "source": [
    "import pandas as pd\n",
    "import numpy as np"
   ]
  },
  {
   "cell_type": "code",
   "execution_count": null,
   "metadata": {},
   "outputs": [],
   "source": [
    "csv_03 = pd.read_csv('/content/drive/MyDrive/Colab Notebooks/LPOINT_BIG_COMP_03_COP_U.csv')\n",
    "csv_05 = pd.read_csv('/content/drive/MyDrive/Colab Notebooks/LPOINT_BIG_COMP_05_BR.csv')"
   ]
  },
  {
   "cell_type": "code",
   "execution_count": null,
   "metadata": {},
   "outputs": [],
   "source": [
    "# 05번 파일에서 : 조건에 해당하는 값 가져오기\n",
    "keyval = csv_05.index[csv_05['br_c'] == 'A010002'][0]\n",
    "print(csv_05.zon_hlv[keyval], csv_05.zon_mcls[keyval]) #zon_hlv |\tzon_mcls\n",
    "csv_05.head()"
   ]
  },
  {
   "cell_type": "code",
   "execution_count": null,
   "metadata": {},
   "outputs": [],
   "source": [
    "# 03번 파일에 'zon_hlv' 컬럼 추가\n",
    "csv_03['zon_hlv'] = np.NaN\n",
    "csv_03.head() "
   ]
  },
  {
   "cell_type": "code",
   "execution_count": null,
   "metadata": {},
   "outputs": [],
   "source": [
    "# 'zon_mcls' 컬럼도 추가함\n",
    "csv_03['zon_mcls'] = np.NaN\n",
    "csv_03.head()"
   ]
  },
  {
   "cell_type": "code",
   "execution_count": null,
   "metadata": {},
   "outputs": [],
   "source": [
    "for i in range(len(csv_03)):\n",
    "  try:                           # 3번 파일 값 각각에 적용\n",
    "    br_c_03 = csv_03.iloc[i].br_c                          # br_c_03 변수를 만들어서 3번 파일의 br_c값을 할당하고\n",
    "    keyval = csv_05.index[csv_05['br_c'] == br_c_03][0]    # 5번파일에서 br_c_03에 해당하는 행의 번호를 가져와서 \n",
    "\n",
    "    csv_03.loc[i, 'zon_hlv'] = csv_05.zon_hlv[keyval]\n",
    "    csv_03.loc[i, 'zon_mcls'] = csv_05.zon_mcls[keyval]\n",
    "  except:\n",
    "    csv_03.loc[i, 'zon_hlv'] = '-'\n",
    "    csv_03.loc[i, 'zon_mcls'] = '-'\n",
    "  print(i)"
   ]
  }
 ],
 "metadata": {
  "language_info": {
   "name": "python"
  },
  "orig_nbformat": 4
 },
 "nbformat": 4,
 "nbformat_minor": 2
}
